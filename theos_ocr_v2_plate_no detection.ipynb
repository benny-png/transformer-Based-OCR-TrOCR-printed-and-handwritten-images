{
  "nbformat": 4,
  "nbformat_minor": 0,
  "metadata": {
    "colab": {
      "provenance": [],
      "include_colab_link": true
    },
    "kernelspec": {
      "name": "python3",
      "display_name": "Python 3"
    },
    "language_info": {
      "name": "python"
    },
    "accelerator": "GPU"
  },
  "cells": [
    {
      "cell_type": "markdown",
      "metadata": {
        "id": "view-in-github",
        "colab_type": "text"
      },
      "source": [
        "<a href=\"https://colab.research.google.com/github/benny-png/transformer-Based-OCR-TrOCR-printed-and-handwritten-images/blob/main/theos_ocr_v2_plate_no%20detection.ipynb\" target=\"_parent\"><img src=\"https://colab.research.google.com/assets/colab-badge.svg\" alt=\"Open In Colab\"/></a>"
      ]
    },
    {
      "cell_type": "markdown",
      "source": [
        "## 1. Set these variables with your own values\n",
        "Drop the video to the colab instance filesystem, rename it to the **INPUT_VIDEO** filename."
      ],
      "metadata": {
        "id": "Y0rGdLZWLCtW"
      }
    },
    {
      "cell_type": "code",
      "source": [
        "ALGORITHM = 'yolov7' # set the algorithm, such as 'yolov7'\n",
        "ALGORITHM_VERSION = 'tiny' # set the algorithm version, such as 'tiny'\n",
        "WEIGHTS = 'license-plates:experiment-1:best' # set the weights tag, such as 'license-plates:experiment-1:best'\n",
        "\n",
        "OCR_MODEL_SIZE = 'large' # set the OCR model size, possible values are 'small', 'medium' and 'large'\n",
        "OCR_MODEL_TYPE = 'printed' # set the OCR model type if using OCR_MODEL_SIZE = 'large', possible values are 'str', 'printed' and 'handwritten'\n",
        "OCR_MODEL_ACCURACY = 'best' # set the OCR model accuracy if using OCR_MODEL_SIZE = 'large', possible values are 'base', 'medium' and 'best'\n",
        "OCR_CLASSES = ['license-plate'] # set the class names that the OCR model should read from, such as ['license-plate']\n",
        "\n",
        "INPUT_VIDEO = 'video.mp4'\n",
        "OUTPUT_VIDEO = 'output.mp4'"
      ],
      "metadata": {
        "id": "RwbZyQ3CBGjW"
      },
      "execution_count": null,
      "outputs": []
    },
    {
      "cell_type": "markdown",
      "source": [
        "## 2. Run the setup code"
      ],
      "metadata": {
        "id": "cEsSUEzmLJZ8"
      }
    },
    {
      "cell_type": "code",
      "source": [
        "from getpass import getpass\n",
        "import subprocess\n",
        "\n",
        "PYTHON_VERSION = '3.10'\n",
        "\n",
        "def run(command):\n",
        "  p  = subprocess.Popen(command, shell=True, stdout=subprocess.PIPE, stderr=subprocess.STDOUT, text=True)\n",
        "  while True:\n",
        "      output = p.stdout.readline()\n",
        "      if output == '' and p.poll() is not None:\n",
        "          break\n",
        "      if output:\n",
        "          print(output.strip())\n",
        "\n",
        "def python(script):\n",
        "  p = subprocess.Popen(f'python{PYTHON_VERSION} -c \"{script}\"', shell=True, stdout=subprocess.PIPE, stderr=subprocess.STDOUT, text=True)\n",
        "  while True:\n",
        "      output = p.stdout.readline()\n",
        "      if output == '' and p.poll() is not None:\n",
        "          break\n",
        "      if output:\n",
        "          print(output.strip())\n",
        "\n",
        "def login():\n",
        "  username = input('[theos] username: ')\n",
        "  password = getpass('[theos] password: ')\n",
        "  run(f'theos login -u {username} -p {password}')\n",
        "\n",
        "def set_project():\n",
        "  key = getpass('[theos] project key: ')\n",
        "  run(f'theos set-project {key}')\n",
        "\n",
        "def install_algorithm(algorithm, version, weights):\n",
        "  run(f'theos install {algorithm} --version {version} --weights {weights}')\n",
        "\n",
        "INSTALL = f'sudo apt install tesseract-ocr && wget https://bootstrap.pypa.io/get-pip.py && python{PYTHON_VERSION} get-pip.py && python{PYTHON_VERSION} -m pip install --upgrade pip && python{PYTHON_VERSION} -m pip install theos-ai[ocr]==0.0.36'\n",
        "SETUP = 'theos setup --version v1 --subfield object-detection'\n",
        "SCRIPT = f'''\n",
        "from theos.computer_vision.object_detection.utils import draw\n",
        "from theos.computer_vision import ocr\n",
        "from theos.client import Client\n",
        "from tqdm import tqdm\n",
        "import torch\n",
        "import json\n",
        "import time\n",
        "import cv2\n",
        "import os\n",
        "\n",
        "if torch.cuda.is_available():\n",
        "  torch.cuda.empty_cache()\n",
        "\n",
        "ALGORITHM = '{ALGORITHM}'\n",
        "ALGORITHM_VERSION = '{ALGORITHM_VERSION}'\n",
        "WEIGHTS = '{WEIGHTS}'\n",
        "\n",
        "OCR_MODEL_SIZE = '{OCR_MODEL_SIZE}'\n",
        "OCR_MODEL_TYPE = '{OCR_MODEL_TYPE}'\n",
        "OCR_MODEL_ACCURACY = '{OCR_MODEL_ACCURACY}'\n",
        "OCR_CLASSES = {OCR_CLASSES}\n",
        "\n",
        "INPUT_VIDEO = '{INPUT_VIDEO}'\n",
        "OUTPUT_VIDEO = '{OUTPUT_VIDEO}'\n",
        "client = Client(inputs='.', outputs='.')\n",
        "yolov7 = client.get(ALGORITHM, version=ALGORITHM_VERSION)\n",
        "yolov7.load_weights(WEIGHTS)\n",
        "yolov7.to_gpu()\n",
        "\n",
        "if OCR_MODEL_TYPE and OCR_MODEL_ACCURACY:\n",
        "  ocr_model = ocr.load(size=OCR_MODEL_SIZE, model_type=OCR_MODEL_TYPE, accuracy=OCR_MODEL_ACCURACY)\n",
        "else:\n",
        "  ocr_model = ocr.load(size=OCR_MODEL_SIZE)\n",
        "\n",
        "if OCR_MODEL_SIZE == 'large':\n",
        "  ocr_model.to_gpu()\n",
        "\n",
        "video = cv2.VideoCapture(INPUT_VIDEO)\n",
        "width  = int(video.get(cv2.CAP_PROP_FRAME_WIDTH))\n",
        "height = int(video.get(cv2.CAP_PROP_FRAME_HEIGHT))\n",
        "fps = int(video.get(cv2.CAP_PROP_FPS))\n",
        "frames_count = int(video.get(cv2.CAP_PROP_FRAME_COUNT))\n",
        "fourcc = cv2.VideoWriter_fourcc(*'MP4V')\n",
        "output = cv2.VideoWriter(OUTPUT_VIDEO, fourcc, fps, (width, height))\n",
        "\n",
        "if video.isOpened() == False:\n",
        "    print('[!] error opening the video')\n",
        "\n",
        "print('[theos] detecting video...')\n",
        "print()\n",
        "pbar = tqdm(total=frames_count, unit=' frames', dynamic_ncols=True, position=0, leave=True)\n",
        "\n",
        "while video.isOpened():\n",
        "    ret, frame = video.read()\n",
        "    if ret == True:\n",
        "        detections = yolov7.detect(frame)\n",
        "        detections = ocr_model.read(frame, detections=detections, classes=OCR_CLASSES)\n",
        "        detected_frame = draw(frame, detections, alpha=0.15)\n",
        "        output.write(detected_frame)\n",
        "        pbar.update(1)\n",
        "    else:\n",
        "        break\n",
        "\n",
        "pbar.close()\n",
        "print()\n",
        "video.release()\n",
        "output.release()\n",
        "yolov7.unload()\n",
        "client.close()\n",
        "\n",
        "print('[theos] you can now download the output video.')\n",
        "'''"
      ],
      "metadata": {
        "id": "ZIk4KzDh7Ecr"
      },
      "execution_count": null,
      "outputs": []
    },
    {
      "cell_type": "markdown",
      "metadata": {
        "id": "Af3wQbwgvF8i"
      },
      "source": [
        "## 3. Install the required packages"
      ]
    },
    {
      "cell_type": "code",
      "source": [
        "run(INSTALL)\n",
        "run(SETUP)"
      ],
      "metadata": {
        "id": "Gystp1OB25sz"
      },
      "execution_count": null,
      "outputs": []
    },
    {
      "cell_type": "markdown",
      "metadata": {
        "id": "BfyI_ITqvPTW"
      },
      "source": [
        "## 4. Log in to your account"
      ]
    },
    {
      "cell_type": "code",
      "metadata": {
        "id": "IgXxZBkTpgXS"
      },
      "source": [
        "login()"
      ],
      "execution_count": null,
      "outputs": []
    },
    {
      "cell_type": "markdown",
      "metadata": {
        "id": "Xp7xq-sPsuzC"
      },
      "source": [
        "# 5. Set your theos project\n",
        "Enter your Theos **project key**.\n"
      ]
    },
    {
      "cell_type": "code",
      "metadata": {
        "id": "jM31_cCBpk7a"
      },
      "source": [
        "set_project()"
      ],
      "execution_count": null,
      "outputs": []
    },
    {
      "cell_type": "markdown",
      "source": [
        "# 6. Install the algorithm and weights"
      ],
      "metadata": {
        "id": "EXy4zZrF0F4i"
      }
    },
    {
      "cell_type": "code",
      "source": [
        "install_algorithm(ALGORITHM, ALGORITHM_VERSION, WEIGHTS)"
      ],
      "metadata": {
        "id": "DpGglfp40N4D"
      },
      "execution_count": null,
      "outputs": []
    },
    {
      "cell_type": "markdown",
      "source": [
        "# 7. Detect and read"
      ],
      "metadata": {
        "id": "ZZ1N8mqh0bA7"
      }
    },
    {
      "cell_type": "markdown",
      "source": [
        "This script will detect and perform OCR on your video and save the output video to your machine."
      ],
      "metadata": {
        "id": "w-_HQZ2MTRAf"
      }
    },
    {
      "cell_type": "code",
      "source": [
        "python(SCRIPT)"
      ],
      "metadata": {
        "id": "kq4Z4n9f0iR1"
      },
      "execution_count": null,
      "outputs": []
    },
    {
      "cell_type": "markdown",
      "source": [
        "# 8. Download the output video"
      ],
      "metadata": {
        "id": "3aZOhW6OTOTy"
      }
    },
    {
      "cell_type": "code",
      "source": [
        "from google.colab import files\n",
        "print('[theos] downloading output video...\\n')\n",
        "files.download(OUTPUT_VIDEO)"
      ],
      "metadata": {
        "id": "DK8O2aXpTHot"
      },
      "execution_count": null,
      "outputs": []
    }
  ]
}